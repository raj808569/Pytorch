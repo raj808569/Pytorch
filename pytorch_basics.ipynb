{
  "nbformat": 4,
  "nbformat_minor": 0,
  "metadata": {
    "colab": {
      "name": "pytorch_basics.ipynb",
      "version": "0.3.2",
      "provenance": [],
      "toc_visible": true
    },
    "kernelspec": {
      "name": "python3",
      "display_name": "Python 3"
    }
  },
  "cells": [
    {
      "metadata": {
        "id": "wOXqJMBAoeMk",
        "colab_type": "code",
        "colab": {}
      },
      "cell_type": "code",
      "source": [
        "import torchprint(x.size())\n"
      ],
      "execution_count": 0,
      "outputs": []
    },
    {
      "metadata": {
        "id": "n4DDRmhxonC6",
        "colab_type": "code",
        "colab": {}
      },
      "cell_type": "code",
      "source": [
        "# http://pytorch.org/\n",
        "from os.path import exists\n",
        "from wheel.pep425tags import get_abbr_impl, get_impl_ver, get_abi_tag\n",
        "platform = '{}{}-{}'.format(get_abbr_impl(), get_impl_ver(), get_abi_tag())\n",
        "cuda_output = !ldconfig -p|grep cudart.so|sed -e 's/.*\\.\\([0-9]*\\)\\.\\([0-9]*\\)$/cu\\1\\2/'\n",
        "accelerator = cuda_output[0] if exists('/dev/nvidia0') else 'cpu'\n",
        "\n",
        "!pip install -q http://download.pytorch.org/whl/{accelerator}/torch-0.4.1-{platform}-linux_x86_64.whl torchvision\n",
        "import torch"
      ],
      "execution_count": 0,
      "outputs": []
    },
    {
      "metadata": {
        "id": "sG7cFop3ojcz",
        "colab_type": "code",
        "colab": {}
      },
      "cell_type": "code",
      "source": [
        "import torchvision"
      ],
      "execution_count": 0,
      "outputs": []
    },
    {
      "metadata": {
        "id": "ROthHltbor0c",
        "colab_type": "code",
        "colab": {
          "base_uri": "https://localhost:8080/",
          "height": 101
        },
        "outputId": "68b8c2e0-6f93-4ce8-dc12-899fed67f242"
      },
      "cell_type": "code",
      "source": [
        "x=torch.rand(5,3)\n",
        "print(x)"
      ],
      "execution_count": 4,
      "outputs": [
        {
          "output_type": "stream",
          "text": [
            "tensor([[0.3102, 0.4055, 0.1473],\n",
            "        [0.5435, 0.1153, 0.2666],\n",
            "        [0.4987, 0.5507, 0.8746],\n",
            "        [0.9491, 0.1996, 0.2292],\n",
            "        [0.5690, 0.7374, 0.3048]])\n"
          ],
          "name": "stdout"
        }
      ]
    },
    {
      "metadata": {
        "id": "Zt9Fhg13pB9T",
        "colab_type": "code",
        "colab": {
          "base_uri": "https://localhost:8080/",
          "height": 101
        },
        "outputId": "3ede9f6d-48ec-479e-85a2-3b06652b1672"
      },
      "cell_type": "code",
      "source": [
        "x=torch.empty(5,3)\n",
        "print(x)"
      ],
      "execution_count": 5,
      "outputs": [
        {
          "output_type": "stream",
          "text": [
            "tensor([[3.9438e-37, 0.0000e+00, 4.4842e-44],\n",
            "        [0.0000e+00,        nan, 0.0000e+00],\n",
            "        [1.1040e-05, 1.6766e+22, 2.6446e+20],\n",
            "        [1.0372e-08, 6.6389e-07, 6.9001e-07],\n",
            "        [1.3663e-05, 4.1911e+21, 5.0948e-14]])\n"
          ],
          "name": "stdout"
        }
      ]
    },
    {
      "metadata": {
        "id": "UrnmzB9-pF8q",
        "colab_type": "code",
        "colab": {
          "base_uri": "https://localhost:8080/",
          "height": 101
        },
        "outputId": "33ecd8f1-9d32-4f0c-b9cf-2e6a81161ae5"
      },
      "cell_type": "code",
      "source": [
        "x=torch.zeros(5,3,dtype=torch.long)\n",
        "print(x)"
      ],
      "execution_count": 7,
      "outputs": [
        {
          "output_type": "stream",
          "text": [
            "tensor([[0, 0, 0],\n",
            "        [0, 0, 0],\n",
            "        [0, 0, 0],\n",
            "        [0, 0, 0],\n",
            "        [0, 0, 0]])\n"
          ],
          "name": "stdout"
        }
      ]
    },
    {
      "metadata": {
        "id": "vZTZZZQWpQMN",
        "colab_type": "code",
        "colab": {
          "base_uri": "https://localhost:8080/",
          "height": 34
        },
        "outputId": "a71944ef-df62-491f-a152-bd4a4aece67a"
      },
      "cell_type": "code",
      "source": [
        "x = torch.tensor([5.5, 3])\n",
        "print(x)"
      ],
      "execution_count": 8,
      "outputs": [
        {
          "output_type": "stream",
          "text": [
            "tensor([5.5000, 3.0000])\n"
          ],
          "name": "stdout"
        }
      ]
    },
    {
      "metadata": {
        "id": "APeYW90Sp1wj",
        "colab_type": "code",
        "colab": {
          "base_uri": "https://localhost:8080/",
          "height": 185
        },
        "outputId": "7ab67987-1e43-4b6c-9db6-5dbe6ad4a140"
      },
      "cell_type": "code",
      "source": [
        "x = x.new_ones(5, 3, dtype=torch.double)      # new_* methods take in sizes\n",
        "print(x)\n",
        "\n",
        "x = torch.randn_like(x, dtype=torch.float)    # override dtype!\n",
        "print(x)                                      # result has the same size"
      ],
      "execution_count": 9,
      "outputs": [
        {
          "output_type": "stream",
          "text": [
            "tensor([[1., 1., 1.],\n",
            "        [1., 1., 1.],\n",
            "        [1., 1., 1.],\n",
            "        [1., 1., 1.],\n",
            "        [1., 1., 1.]], dtype=torch.float64)\n",
            "tensor([[-1.0921, -2.6105, -1.0869],\n",
            "        [ 0.6318, -2.0995,  0.7437],\n",
            "        [-0.9104, -1.4822,  0.8828],\n",
            "        [ 1.7516,  1.8427, -0.5536],\n",
            "        [-0.1227, -0.2726, -0.1744]])\n"
          ],
          "name": "stdout"
        }
      ]
    },
    {
      "metadata": {
        "id": "TPCMQW8brT3I",
        "colab_type": "code",
        "colab": {
          "base_uri": "https://localhost:8080/",
          "height": 34
        },
        "outputId": "bcd2498e-2e02-4fe4-9a9b-0ff5ae700e4a"
      },
      "cell_type": "code",
      "source": [
        "print(x.size())\n"
      ],
      "execution_count": 11,
      "outputs": [
        {
          "output_type": "stream",
          "text": [
            "torch.Size([5, 3])\n"
          ],
          "name": "stdout"
        }
      ]
    },
    {
      "metadata": {
        "id": "_g3zJoilrhv3",
        "colab_type": "code",
        "colab": {
          "base_uri": "https://localhost:8080/",
          "height": 101
        },
        "outputId": "6d4679c5-8e5f-47ce-971e-91f9ba3ade84"
      },
      "cell_type": "code",
      "source": [
        "y = torch.rand(5, 3)\n",
        "print(x + y)"
      ],
      "execution_count": 14,
      "outputs": [
        {
          "output_type": "stream",
          "text": [
            "tensor([[-0.3577, -1.8131, -0.2822],\n",
            "        [ 0.9176, -1.1122,  1.5326],\n",
            "        [-0.5968, -0.8037,  1.0873],\n",
            "        [ 2.2389,  2.7019,  0.3950],\n",
            "        [ 0.3741,  0.5847,  0.0482]])\n"
          ],
          "name": "stdout"
        }
      ]
    },
    {
      "metadata": {
        "id": "P_yJETB6rn4U",
        "colab_type": "code",
        "colab": {
          "base_uri": "https://localhost:8080/",
          "height": 101
        },
        "outputId": "953c01d9-f2b4-4980-b45a-ffba58ee66e9"
      },
      "cell_type": "code",
      "source": [
        "print(torch.add(x, y))\n"
      ],
      "execution_count": 15,
      "outputs": [
        {
          "output_type": "stream",
          "text": [
            "tensor([[-0.3577, -1.8131, -0.2822],\n",
            "        [ 0.9176, -1.1122,  1.5326],\n",
            "        [-0.5968, -0.8037,  1.0873],\n",
            "        [ 2.2389,  2.7019,  0.3950],\n",
            "        [ 0.3741,  0.5847,  0.0482]])\n"
          ],
          "name": "stdout"
        }
      ]
    },
    {
      "metadata": {
        "id": "SsF4bLlQsNjf",
        "colab_type": "code",
        "colab": {
          "base_uri": "https://localhost:8080/",
          "height": 101
        },
        "outputId": "4737449b-ba91-436c-ee2f-86ffb88a5131"
      },
      "cell_type": "code",
      "source": [
        "result = torch.empty(5, 3)\n",
        "torch.add(x, y, out=result)\n",
        "print(result)"
      ],
      "execution_count": 16,
      "outputs": [
        {
          "output_type": "stream",
          "text": [
            "tensor([[-0.3577, -1.8131, -0.2822],\n",
            "        [ 0.9176, -1.1122,  1.5326],\n",
            "        [-0.5968, -0.8037,  1.0873],\n",
            "        [ 2.2389,  2.7019,  0.3950],\n",
            "        [ 0.3741,  0.5847,  0.0482]])\n"
          ],
          "name": "stdout"
        }
      ]
    },
    {
      "metadata": {
        "id": "XU7xHUSKsN-i",
        "colab_type": "code",
        "colab": {
          "base_uri": "https://localhost:8080/",
          "height": 101
        },
        "outputId": "214ff9f5-1f54-4236-aa06-ea33343d4346"
      },
      "cell_type": "code",
      "source": [
        "#Addition: in-place\n",
        "\n",
        "# adds x to y\n",
        "y.add_(x)\n",
        "print(y)"
      ],
      "execution_count": 17,
      "outputs": [
        {
          "output_type": "stream",
          "text": [
            "tensor([[-0.3577, -1.8131, -0.2822],\n",
            "        [ 0.9176, -1.1122,  1.5326],\n",
            "        [-0.5968, -0.8037,  1.0873],\n",
            "        [ 2.2389,  2.7019,  0.3950],\n",
            "        [ 0.3741,  0.5847,  0.0482]])\n"
          ],
          "name": "stdout"
        }
      ]
    },
    {
      "metadata": {
        "id": "hqcCmJE5sksX",
        "colab_type": "code",
        "colab": {
          "base_uri": "https://localhost:8080/",
          "height": 34
        },
        "outputId": "1f123b5d-957d-4aa3-8903-0dc199bfd7a1"
      },
      "cell_type": "code",
      "source": [
        "print(x[:, 1])\n"
      ],
      "execution_count": 18,
      "outputs": [
        {
          "output_type": "stream",
          "text": [
            "tensor([-2.6105, -2.0995, -1.4822,  1.8427, -0.2726])\n"
          ],
          "name": "stdout"
        }
      ]
    },
    {
      "metadata": {
        "id": "BSiZWNZ0st1j",
        "colab_type": "code",
        "colab": {
          "base_uri": "https://localhost:8080/",
          "height": 34
        },
        "outputId": "b72c68e7-7103-4360-ddfb-062525a45017"
      },
      "cell_type": "code",
      "source": [
        "x = torch.randn(4, 4)\n",
        "y = x.view(16)\n",
        "z = x.view(-1, 8)  # the size -1 is inferred from other dimensions\n",
        "print(x.size(), y.size(), z.size())"
      ],
      "execution_count": 19,
      "outputs": [
        {
          "output_type": "stream",
          "text": [
            "torch.Size([4, 4]) torch.Size([16]) torch.Size([2, 8])\n"
          ],
          "name": "stdout"
        }
      ]
    },
    {
      "metadata": {
        "id": "PIhESi4ttAGh",
        "colab_type": "code",
        "colab": {
          "base_uri": "https://localhost:8080/",
          "height": 84
        },
        "outputId": "7e78d7c3-f083-4dd7-beb8-082cbd314d69"
      },
      "cell_type": "code",
      "source": [
        "print(x)"
      ],
      "execution_count": 20,
      "outputs": [
        {
          "output_type": "stream",
          "text": [
            "tensor([[-0.1070, -1.1432,  1.9794, -0.0616],\n",
            "        [-1.2197, -0.0123,  0.8420, -1.4142],\n",
            "        [-0.8684,  1.2804, -1.4316, -0.7712],\n",
            "        [ 0.3756, -0.4085,  0.4130,  0.4101]])\n"
          ],
          "name": "stdout"
        }
      ]
    },
    {
      "metadata": {
        "id": "aPLo9o9LtBZO",
        "colab_type": "code",
        "colab": {
          "base_uri": "https://localhost:8080/",
          "height": 50
        },
        "outputId": "7cdfbe93-edeb-4483-af59-08fea8323ef8"
      },
      "cell_type": "code",
      "source": [
        "print(y)"
      ],
      "execution_count": 21,
      "outputs": [
        {
          "output_type": "stream",
          "text": [
            "tensor([-0.1070, -1.1432,  1.9794, -0.0616, -1.2197, -0.0123,  0.8420, -1.4142,\n",
            "        -0.8684,  1.2804, -1.4316, -0.7712,  0.3756, -0.4085,  0.4130,  0.4101])\n"
          ],
          "name": "stdout"
        }
      ]
    },
    {
      "metadata": {
        "id": "4liGxOyGtDba",
        "colab_type": "code",
        "colab": {
          "base_uri": "https://localhost:8080/",
          "height": 50
        },
        "outputId": "de5c59ce-7876-47d4-973f-22c26452defc"
      },
      "cell_type": "code",
      "source": [
        "print(z)"
      ],
      "execution_count": 22,
      "outputs": [
        {
          "output_type": "stream",
          "text": [
            "tensor([[-0.1070, -1.1432,  1.9794, -0.0616, -1.2197, -0.0123,  0.8420, -1.4142],\n",
            "        [-0.8684,  1.2804, -1.4316, -0.7712,  0.3756, -0.4085,  0.4130,  0.4101]])\n"
          ],
          "name": "stdout"
        }
      ]
    },
    {
      "metadata": {
        "id": "IZSizX7AtLlf",
        "colab_type": "code",
        "colab": {
          "base_uri": "https://localhost:8080/",
          "height": 50
        },
        "outputId": "ea22b3e9-db38-4dd9-9356-a2ffd252a170"
      },
      "cell_type": "code",
      "source": [
        "x = torch.randn(1)\n",
        "print(x)\n",
        "print(x.item())"
      ],
      "execution_count": 23,
      "outputs": [
        {
          "output_type": "stream",
          "text": [
            "tensor([-0.3464])\n",
            "-0.3463614583015442\n"
          ],
          "name": "stdout"
        }
      ]
    },
    {
      "metadata": {
        "id": "zd7drl1AtfW7",
        "colab_type": "code",
        "colab": {}
      },
      "cell_type": "code",
      "source": [
        "#Numpy and Torch\n",
        "#The Torch Tensor and NumPy array will share their underlying memory locations, and changing one will change the other.\n",
        "\n"
      ],
      "execution_count": 0,
      "outputs": []
    },
    {
      "metadata": {
        "id": "L-Lq717Rtwqx",
        "colab_type": "code",
        "colab": {
          "base_uri": "https://localhost:8080/",
          "height": 34
        },
        "outputId": "7a60699d-6024-499a-8bd8-d23be3c44315"
      },
      "cell_type": "code",
      "source": [
        "a = torch.ones(5)\n",
        "print(a)"
      ],
      "execution_count": 24,
      "outputs": [
        {
          "output_type": "stream",
          "text": [
            "tensor([1., 1., 1., 1., 1.])\n"
          ],
          "name": "stdout"
        }
      ]
    },
    {
      "metadata": {
        "id": "u5SPOsPJt3I-",
        "colab_type": "code",
        "colab": {
          "base_uri": "https://localhost:8080/",
          "height": 34
        },
        "outputId": "59e1719e-a590-4174-b46f-23c35bcd39c2"
      },
      "cell_type": "code",
      "source": [
        "b = a.numpy()\n",
        "print(b)\n"
      ],
      "execution_count": 25,
      "outputs": [
        {
          "output_type": "stream",
          "text": [
            "[1. 1. 1. 1. 1.]\n"
          ],
          "name": "stdout"
        }
      ]
    },
    {
      "metadata": {
        "id": "EYwNyQTbuKlm",
        "colab_type": "code",
        "colab": {
          "base_uri": "https://localhost:8080/",
          "height": 50
        },
        "outputId": "e6e7f9d5-774e-47c1-dac8-86c2af4b8bb0"
      },
      "cell_type": "code",
      "source": [
        "import numpy as np\n",
        "a = np.ones(5)\n",
        "b = torch.from_numpy(a)\n",
        "np.add(a, 1, out=a)\n",
        "print(a)\n",
        "print(b)"
      ],
      "execution_count": 26,
      "outputs": [
        {
          "output_type": "stream",
          "text": [
            "[2. 2. 2. 2. 2.]\n",
            "tensor([2., 2., 2., 2., 2.], dtype=torch.float64)\n"
          ],
          "name": "stdout"
        }
      ]
    },
    {
      "metadata": {
        "id": "N1iDY5a-vOCR",
        "colab_type": "code",
        "colab": {}
      },
      "cell_type": "code",
      "source": [
        "# let us run this cell only if CUDA is available\n",
        "# We will use ``torch.device`` objects to move tensors in and out of GPU\n",
        "if torch.cuda.is_available():\n",
        "    device = torch.device(\"cuda\")          # a CUDA device object\n",
        "    y = torch.ones_like(x, device=device)  # directly create a tensor on GPU\n",
        "    x = x.to(device)                       # or just use strings ``.to(\"cuda\")``\n",
        "    z = x + y\n",
        "    print(z)\n",
        "    print(z.to(\"cpu\", torch.double))       # ``.to`` can also change dtype together!"
      ],
      "execution_count": 0,
      "outputs": []
    }
  ]
}